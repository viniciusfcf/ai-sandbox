{
 "cells": [
  {
   "cell_type": "markdown",
   "id": "208d1e19-075a-49de-83a4-4046981c8cab",
   "metadata": {},
   "source": [
    "### **02_model_training.ipynb**\n",
    "### **Model Training Pipeline**\n",
    "\n",
    "* ##### 01 - Install packages\n",
    "* ##### 02 - Import packages\n",
    "* ##### 03 - Create tasks\n",
    "* ##### 04 - Create pipeline\n",
    "* ##### 05 - Create pipeline yaml\n",
    "* ##### 06 - Create pipeline run\n",
    "* ##### 07 - Run inference"
   ]
  },
  {
   "cell_type": "markdown",
   "id": "04e773ec-5f55-4658-bb89-aa4dad6dfd53",
   "metadata": {},
   "source": [
    "### 01 - Install packages"
   ]
  },
  {
   "cell_type": "code",
   "execution_count": 1,
   "id": "d1a74538-6ecd-43ac-9ea4-9c5158b7c16e",
   "metadata": {
    "tags": []
   },
   "outputs": [
    {
     "name": "stdout",
     "output_type": "stream",
     "text": [
      "Requirement already satisfied: kfp in /opt/app-root/lib/python3.9/site-packages (2.7.0)\n",
      "Requirement already satisfied: requests in /opt/app-root/lib/python3.9/site-packages (2.31.0)\n",
      "Collecting tensorflow==2.15.0\n",
      "  Downloading tensorflow-2.15.0-cp39-cp39-manylinux_2_17_x86_64.manylinux2014_x86_64.whl (475.2 MB)\n",
      "\u001b[2K     \u001b[90m━━━━━━━━━━━━━━━━━━━━━━━━━━━━━━━━━━━━━\u001b[0m \u001b[32m475.2/475.2 MB\u001b[0m \u001b[31m202.9 MB/s\u001b[0m eta \u001b[36m0:00:00\u001b[0m00:01\u001b[0m00:01\u001b[0m\n",
      "\u001b[?25hCollecting tensorflow-io-gcs-filesystem>=0.23.1\n",
      "  Downloading tensorflow_io_gcs_filesystem-0.37.0-cp39-cp39-manylinux_2_17_x86_64.manylinux2014_x86_64.whl (5.1 MB)\n",
      "\u001b[2K     \u001b[90m━━━━━━━━━━━━━━━━━━━━━━━━━━━━━━━━━━━━━━━━\u001b[0m \u001b[32m5.1/5.1 MB\u001b[0m \u001b[31m221.1 MB/s\u001b[0m eta \u001b[36m0:00:00\u001b[0m\n",
      "\u001b[?25hRequirement already satisfied: protobuf!=4.21.0,!=4.21.1,!=4.21.2,!=4.21.3,!=4.21.4,!=4.21.5,<5.0.0dev,>=3.20.3 in /opt/app-root/lib/python3.9/site-packages (from tensorflow==2.15.0) (4.25.3)\n",
      "Requirement already satisfied: grpcio<2.0,>=1.24.3 in /opt/app-root/lib/python3.9/site-packages (from tensorflow==2.15.0) (1.62.2)\n",
      "Requirement already satisfied: setuptools in /opt/app-root/lib/python3.9/site-packages (from tensorflow==2.15.0) (53.0.0)\n",
      "Collecting flatbuffers>=23.5.26\n",
      "  Downloading flatbuffers-24.3.25-py2.py3-none-any.whl (26 kB)\n",
      "Collecting astunparse>=1.6.0\n",
      "  Downloading astunparse-1.6.3-py2.py3-none-any.whl (12 kB)\n",
      "Collecting tensorboard<2.16,>=2.15\n",
      "  Downloading tensorboard-2.15.2-py3-none-any.whl (5.5 MB)\n",
      "\u001b[2K     \u001b[90m━━━━━━━━━━━━━━━━━━━━━━━━━━━━━━━━━━━━━━━━\u001b[0m \u001b[32m5.5/5.5 MB\u001b[0m \u001b[31m190.9 MB/s\u001b[0m eta \u001b[36m0:00:00\u001b[0m\n",
      "\u001b[?25hCollecting opt-einsum>=2.3.2\n",
      "  Downloading opt_einsum-3.3.0-py3-none-any.whl (65 kB)\n",
      "\u001b[2K     \u001b[90m━━━━━━━━━━━━━━━━━━━━━━━━━━━━━━━━━━━━━━━━\u001b[0m \u001b[32m65.5/65.5 kB\u001b[0m \u001b[31m78.2 MB/s\u001b[0m eta \u001b[36m0:00:00\u001b[0m\n",
      "\u001b[?25hCollecting gast!=0.5.0,!=0.5.1,!=0.5.2,>=0.2.1\n",
      "  Downloading gast-0.5.4-py3-none-any.whl (19 kB)\n",
      "Collecting tensorflow-estimator<2.16,>=2.15.0\n",
      "  Downloading tensorflow_estimator-2.15.0-py2.py3-none-any.whl (441 kB)\n",
      "\u001b[2K     \u001b[90m━━━━━━━━━━━━━━━━━━━━━━━━━━━━━━━━━━━━━\u001b[0m \u001b[32m442.0/442.0 kB\u001b[0m \u001b[31m232.2 MB/s\u001b[0m eta \u001b[36m0:00:00\u001b[0m\n",
      "\u001b[?25hCollecting h5py>=2.9.0\n",
      "  Downloading h5py-3.11.0-cp39-cp39-manylinux_2_17_x86_64.manylinux2014_x86_64.whl (5.3 MB)\n",
      "\u001b[2K     \u001b[90m━━━━━━━━━━━━━━━━━━━━━━━━━━━━━━━━━━━━━━━━\u001b[0m \u001b[32m5.3/5.3 MB\u001b[0m \u001b[31m172.2 MB/s\u001b[0m eta \u001b[36m0:00:00\u001b[0m\n",
      "\u001b[?25hCollecting keras<2.16,>=2.15.0\n",
      "  Downloading keras-2.15.0-py3-none-any.whl (1.7 MB)\n",
      "\u001b[2K     \u001b[90m━━━━━━━━━━━━━━━━━━━━━━━━━━━━━━━━━━━━━━━━\u001b[0m \u001b[32m1.7/1.7 MB\u001b[0m \u001b[31m203.3 MB/s\u001b[0m eta \u001b[36m0:00:00\u001b[0m\n",
      "\u001b[?25hCollecting ml-dtypes~=0.2.0\n",
      "  Downloading ml_dtypes-0.2.0-cp39-cp39-manylinux_2_17_x86_64.manylinux2014_x86_64.whl (1.0 MB)\n",
      "\u001b[2K     \u001b[90m━━━━━━━━━━━━━━━━━━━━━━━━━━━━━━━━━━━━━━━━\u001b[0m \u001b[32m1.0/1.0 MB\u001b[0m \u001b[31m197.4 MB/s\u001b[0m eta \u001b[36m0:00:00\u001b[0m\n",
      "\u001b[?25hRequirement already satisfied: typing-extensions>=3.6.6 in /opt/app-root/lib/python3.9/site-packages (from tensorflow==2.15.0) (4.11.0)\n",
      "Collecting google-pasta>=0.1.1\n",
      "  Downloading google_pasta-0.2.0-py3-none-any.whl (57 kB)\n",
      "\u001b[2K     \u001b[90m━━━━━━━━━━━━━━━━━━━━━━━━━━━━━━━━━━━━━━━\u001b[0m \u001b[32m57.5/57.5 kB\u001b[0m \u001b[31m134.8 MB/s\u001b[0m eta \u001b[36m0:00:00\u001b[0m\n",
      "\u001b[?25hRequirement already satisfied: termcolor>=1.1.0 in /opt/app-root/lib/python3.9/site-packages (from tensorflow==2.15.0) (2.3.0)\n",
      "Collecting wrapt<1.15,>=1.11.0\n",
      "  Downloading wrapt-1.14.1-cp39-cp39-manylinux_2_5_x86_64.manylinux1_x86_64.manylinux_2_17_x86_64.manylinux2014_x86_64.whl (77 kB)\n",
      "\u001b[2K     \u001b[90m━━━━━━━━━━━━━━━━━━━━━━━━━━━━━━━━━━━━━━━\u001b[0m \u001b[32m77.8/77.8 kB\u001b[0m \u001b[31m181.1 MB/s\u001b[0m eta \u001b[36m0:00:00\u001b[0m\n",
      "\u001b[?25hRequirement already satisfied: six>=1.12.0 in /opt/app-root/lib/python3.9/site-packages (from tensorflow==2.15.0) (1.16.0)\n",
      "Requirement already satisfied: packaging in /opt/app-root/lib/python3.9/site-packages (from tensorflow==2.15.0) (24.0)\n",
      "Requirement already satisfied: numpy<2.0.0,>=1.23.5 in /opt/app-root/lib/python3.9/site-packages (from tensorflow==2.15.0) (1.26.4)\n",
      "Collecting libclang>=13.0.0\n",
      "  Downloading libclang-18.1.1-py2.py3-none-manylinux2010_x86_64.whl (24.5 MB)\n",
      "\u001b[2K     \u001b[90m━━━━━━━━━━━━━━━━━━━━━━━━━━━━━━━━━━━━━━━\u001b[0m \u001b[32m24.5/24.5 MB\u001b[0m \u001b[31m199.0 MB/s\u001b[0m eta \u001b[36m0:00:00\u001b[0ma \u001b[36m0:00:01\u001b[0m\n",
      "\u001b[?25hCollecting absl-py>=1.0.0\n",
      "  Downloading absl_py-2.1.0-py3-none-any.whl (133 kB)\n",
      "\u001b[2K     \u001b[90m━━━━━━━━━━━━━━━━━━━━━━━━━━━━━━━━━━━━━\u001b[0m \u001b[32m133.7/133.7 kB\u001b[0m \u001b[31m154.2 MB/s\u001b[0m eta \u001b[36m0:00:00\u001b[0m\n",
      "\u001b[?25hRequirement already satisfied: docstring-parser<1,>=0.7.3 in /opt/app-root/lib/python3.9/site-packages (from kfp) (0.8.1)\n",
      "Requirement already satisfied: kfp-pipeline-spec==0.3.0 in /opt/app-root/lib/python3.9/site-packages (from kfp) (0.3.0)\n",
      "Requirement already satisfied: PyYAML<7,>=5.3 in /opt/app-root/lib/python3.9/site-packages (from kfp) (6.0.1)\n",
      "Requirement already satisfied: click<9,>=8.0.0 in /opt/app-root/lib/python3.9/site-packages (from kfp) (8.1.7)\n",
      "Requirement already satisfied: google-api-core!=2.0.*,!=2.1.*,!=2.2.*,!=2.3.0,<3.0.0dev,>=1.31.5 in /opt/app-root/lib/python3.9/site-packages (from kfp) (2.18.0)\n",
      "Requirement already satisfied: kfp-server-api<2.1.0,>=2.0.0 in /opt/app-root/lib/python3.9/site-packages (from kfp) (2.0.5)\n",
      "Requirement already satisfied: urllib3<2.0.0 in /opt/app-root/lib/python3.9/site-packages (from kfp) (1.26.18)\n",
      "Requirement already satisfied: tabulate<1,>=0.8.6 in /opt/app-root/lib/python3.9/site-packages (from kfp) (0.9.0)\n",
      "Requirement already satisfied: google-cloud-storage<3,>=2.2.1 in /opt/app-root/lib/python3.9/site-packages (from kfp) (2.16.0)\n",
      "Requirement already satisfied: requests-toolbelt<1,>=0.8.0 in /opt/app-root/lib/python3.9/site-packages (from kfp) (0.10.1)\n",
      "Requirement already satisfied: google-auth<3,>=1.6.1 in /opt/app-root/lib/python3.9/site-packages (from kfp) (2.29.0)\n",
      "Requirement already satisfied: kubernetes<27,>=8.0.0 in /opt/app-root/lib/python3.9/site-packages (from kfp) (26.1.0)\n",
      "Requirement already satisfied: charset-normalizer<4,>=2 in /opt/app-root/lib/python3.9/site-packages (from requests) (3.3.2)\n",
      "Requirement already satisfied: certifi>=2017.4.17 in /opt/app-root/lib/python3.9/site-packages (from requests) (2024.2.2)\n",
      "Requirement already satisfied: idna<4,>=2.5 in /opt/app-root/lib/python3.9/site-packages (from requests) (3.7)\n",
      "Requirement already satisfied: wheel<1.0,>=0.23.0 in /opt/app-root/lib/python3.9/site-packages (from astunparse>=1.6.0->tensorflow==2.15.0) (0.43.0)\n",
      "Requirement already satisfied: googleapis-common-protos<2.0.dev0,>=1.56.2 in /opt/app-root/lib/python3.9/site-packages (from google-api-core!=2.0.*,!=2.1.*,!=2.2.*,!=2.3.0,<3.0.0dev,>=1.31.5->kfp) (1.63.0)\n",
      "Requirement already satisfied: proto-plus<2.0.0dev,>=1.22.3 in /opt/app-root/lib/python3.9/site-packages (from google-api-core!=2.0.*,!=2.1.*,!=2.2.*,!=2.3.0,<3.0.0dev,>=1.31.5->kfp) (1.23.0)\n",
      "Requirement already satisfied: pyasn1-modules>=0.2.1 in /opt/app-root/lib/python3.9/site-packages (from google-auth<3,>=1.6.1->kfp) (0.4.0)\n",
      "Requirement already satisfied: cachetools<6.0,>=2.0.0 in /opt/app-root/lib/python3.9/site-packages (from google-auth<3,>=1.6.1->kfp) (5.3.3)\n",
      "Requirement already satisfied: rsa<5,>=3.1.4 in /opt/app-root/lib/python3.9/site-packages (from google-auth<3,>=1.6.1->kfp) (4.9)\n",
      "Requirement already satisfied: google-resumable-media>=2.6.0 in /opt/app-root/lib/python3.9/site-packages (from google-cloud-storage<3,>=2.2.1->kfp) (2.7.0)\n",
      "Requirement already satisfied: google-crc32c<2.0dev,>=1.0 in /opt/app-root/lib/python3.9/site-packages (from google-cloud-storage<3,>=2.2.1->kfp) (1.5.0)\n",
      "Requirement already satisfied: google-cloud-core<3.0dev,>=2.3.0 in /opt/app-root/lib/python3.9/site-packages (from google-cloud-storage<3,>=2.2.1->kfp) (2.4.1)\n",
      "Requirement already satisfied: python-dateutil in /opt/app-root/lib/python3.9/site-packages (from kfp-server-api<2.1.0,>=2.0.0->kfp) (2.9.0.post0)\n",
      "Requirement already satisfied: websocket-client!=0.40.0,!=0.41.*,!=0.42.*,>=0.32.0 in /opt/app-root/lib/python3.9/site-packages (from kubernetes<27,>=8.0.0->kfp) (1.7.0)\n",
      "Requirement already satisfied: requests-oauthlib in /opt/app-root/lib/python3.9/site-packages (from kubernetes<27,>=8.0.0->kfp) (2.0.0)\n",
      "Collecting tensorboard-data-server<0.8.0,>=0.7.0\n",
      "  Downloading tensorboard_data_server-0.7.2-py3-none-manylinux_2_31_x86_64.whl (6.6 MB)\n",
      "\u001b[2K     \u001b[90m━━━━━━━━━━━━━━━━━━━━━━━━━━━━━━━━━━━━━━━━\u001b[0m \u001b[32m6.6/6.6 MB\u001b[0m \u001b[31m172.6 MB/s\u001b[0m eta \u001b[36m0:00:00\u001b[0ma \u001b[36m0:00:01\u001b[0m\n",
      "\u001b[?25hCollecting markdown>=2.6.8\n",
      "  Downloading Markdown-3.6-py3-none-any.whl (105 kB)\n",
      "\u001b[2K     \u001b[90m━━━━━━━━━━━━━━━━━━━━━━━━━━━━━━━━━━━━━\u001b[0m \u001b[32m105.4/105.4 kB\u001b[0m \u001b[31m241.2 MB/s\u001b[0m eta \u001b[36m0:00:00\u001b[0m\n",
      "\u001b[?25hCollecting werkzeug>=1.0.1\n",
      "  Downloading werkzeug-3.0.3-py3-none-any.whl (227 kB)\n",
      "\u001b[2K     \u001b[90m━━━━━━━━━━━━━━━━━━━━━━━━━━━━━━━━━━━━━\u001b[0m \u001b[32m227.3/227.3 kB\u001b[0m \u001b[31m225.7 MB/s\u001b[0m eta \u001b[36m0:00:00\u001b[0m\n",
      "\u001b[?25hCollecting google-auth-oauthlib<2,>=0.5\n",
      "  Downloading google_auth_oauthlib-1.2.0-py2.py3-none-any.whl (24 kB)\n",
      "Requirement already satisfied: importlib-metadata>=4.4 in /opt/app-root/lib/python3.9/site-packages (from markdown>=2.6.8->tensorboard<2.16,>=2.15->tensorflow==2.15.0) (7.1.0)\n",
      "Requirement already satisfied: pyasn1<0.7.0,>=0.4.6 in /opt/app-root/lib/python3.9/site-packages (from pyasn1-modules>=0.2.1->google-auth<3,>=1.6.1->kfp) (0.6.0)\n",
      "Requirement already satisfied: oauthlib>=3.0.0 in /opt/app-root/lib/python3.9/site-packages (from requests-oauthlib->kubernetes<27,>=8.0.0->kfp) (3.2.2)\n",
      "Requirement already satisfied: MarkupSafe>=2.1.1 in /opt/app-root/lib/python3.9/site-packages (from werkzeug>=1.0.1->tensorboard<2.16,>=2.15->tensorflow==2.15.0) (2.1.5)\n",
      "Requirement already satisfied: zipp>=0.5 in /opt/app-root/lib/python3.9/site-packages (from importlib-metadata>=4.4->markdown>=2.6.8->tensorboard<2.16,>=2.15->tensorflow==2.15.0) (3.18.1)\n",
      "Installing collected packages: libclang, flatbuffers, wrapt, werkzeug, tensorflow-io-gcs-filesystem, tensorflow-estimator, tensorboard-data-server, opt-einsum, ml-dtypes, keras, h5py, google-pasta, gast, astunparse, absl-py, markdown, google-auth-oauthlib, tensorboard, tensorflow\n",
      "  Attempting uninstall: wrapt\n",
      "    Found existing installation: wrapt 1.16.0\n",
      "    Uninstalling wrapt-1.16.0:\n",
      "      Successfully uninstalled wrapt-1.16.0\n",
      "Successfully installed absl-py-2.1.0 astunparse-1.6.3 flatbuffers-24.3.25 gast-0.5.4 google-auth-oauthlib-1.2.0 google-pasta-0.2.0 h5py-3.11.0 keras-2.15.0 libclang-18.1.1 markdown-3.6 ml-dtypes-0.2.0 opt-einsum-3.3.0 tensorboard-2.15.2 tensorboard-data-server-0.7.2 tensorflow-2.15.0 tensorflow-estimator-2.15.0 tensorflow-io-gcs-filesystem-0.37.0 werkzeug-3.0.3 wrapt-1.14.1\n",
      "\n",
      "\u001b[1m[\u001b[0m\u001b[34;49mnotice\u001b[0m\u001b[1;39;49m]\u001b[0m\u001b[39;49m A new release of pip available: \u001b[0m\u001b[31;49m22.2.2\u001b[0m\u001b[39;49m -> \u001b[0m\u001b[32;49m24.0\u001b[0m\n",
      "\u001b[1m[\u001b[0m\u001b[34;49mnotice\u001b[0m\u001b[1;39;49m]\u001b[0m\u001b[39;49m To update, run: \u001b[0m\u001b[32;49mpip install --upgrade pip\u001b[0m\n"
     ]
    }
   ],
   "source": [
    "!pip install kfp requests tensorflow==2.15.0"
   ]
  },
  {
   "cell_type": "markdown",
   "id": "8823c595-9568-45ed-82ed-587ff09af30f",
   "metadata": {},
   "source": [
    "### 02 - Import packages"
   ]
  },
  {
   "cell_type": "code",
   "execution_count": 2,
   "id": "fc3c5108-89ca-499b-8c94-6ba965aaa313",
   "metadata": {
    "tags": []
   },
   "outputs": [
    {
     "name": "stderr",
     "output_type": "stream",
     "text": [
      "2024-06-05 20:44:37.568530: I external/local_tsl/tsl/cuda/cudart_stub.cc:31] Could not find cuda drivers on your machine, GPU will not be used.\n",
      "2024-06-05 20:44:37.609010: E external/local_xla/xla/stream_executor/cuda/cuda_dnn.cc:9261] Unable to register cuDNN factory: Attempting to register factory for plugin cuDNN when one has already been registered\n",
      "2024-06-05 20:44:37.609084: E external/local_xla/xla/stream_executor/cuda/cuda_fft.cc:607] Unable to register cuFFT factory: Attempting to register factory for plugin cuFFT when one has already been registered\n",
      "2024-06-05 20:44:37.610484: E external/local_xla/xla/stream_executor/cuda/cuda_blas.cc:1515] Unable to register cuBLAS factory: Attempting to register factory for plugin cuBLAS when one has already been registered\n",
      "2024-06-05 20:44:37.617929: I external/local_tsl/tsl/cuda/cudart_stub.cc:31] Could not find cuda drivers on your machine, GPU will not be used.\n",
      "2024-06-05 20:44:37.618781: I tensorflow/core/platform/cpu_feature_guard.cc:182] This TensorFlow binary is optimized to use available CPU instructions in performance-critical operations.\n",
      "To enable the following instructions: AVX2 FMA, in other operations, rebuild TensorFlow with the appropriate compiler flags.\n",
      "2024-06-05 20:44:39.118991: W tensorflow/compiler/tf2tensorrt/utils/py_utils.cc:38] TF-TRT Warning: Could not find TensorRT\n"
     ]
    }
   ],
   "source": [
    "import os\n",
    "import sys\n",
    "sys.path.append(os.path.dirname(os.getcwd()))\n",
    "\n",
    "import json\n",
    "import kfp\n",
    "import kfp.kubernetes as kubernetes\n",
    "import requests\n",
    "import tensorflow as tf\n",
    "\n",
    "from PIL import Image\n",
    "\n",
    "from components.create_model     import create_model\n",
    "from components.delete_artifacts import delete_artifacts\n",
    "from components.download_dataset import download_dataset\n",
    "from components.evaluate_model   import evaluate_model\n",
    "from components.prepare_dataset  import prepare_dataset\n",
    "from components.train_model      import train_model\n",
    "from components.upload_artifacts import upload_artifacts\n",
    "from components.upload_model     import upload_model"
   ]
  },
  {
   "cell_type": "markdown",
   "id": "fc52fd13-94d6-45c3-9d29-ae1554aa0390",
   "metadata": {},
   "source": [
    "### 03 - Create tasks"
   ]
  },
  {
   "cell_type": "code",
   "execution_count": 3,
   "id": "cf83c390-a1e4-40d8-8663-332207364397",
   "metadata": {
    "tags": []
   },
   "outputs": [],
   "source": [
    "task_base_image = 'registry.access.redhat.com/ubi9/python-311'"
   ]
  },
  {
   "cell_type": "code",
   "execution_count": 4,
   "id": "44bfad77-cf7e-45e5-9aa8-c8b2ac063fb6",
   "metadata": {
    "tags": []
   },
   "outputs": [],
   "source": [
    "download_dataset_op = kfp.dsl.component(\n",
    "    func       = download_dataset,\n",
    "    base_image = task_base_image\n",
    ")"
   ]
  },
  {
   "cell_type": "code",
   "execution_count": 5,
   "id": "94278666-0864-424b-9080-fb8137f70644",
   "metadata": {
    "tags": []
   },
   "outputs": [],
   "source": [
    "prepare_dataset_op = kfp.dsl.component(\n",
    "    func       = prepare_dataset,\n",
    "    base_image = task_base_image\n",
    ")"
   ]
  },
  {
   "cell_type": "code",
   "execution_count": 7,
   "id": "1264356d-d5cf-4614-ae7a-6cc3efd1f406",
   "metadata": {
    "tags": []
   },
   "outputs": [],
   "source": [
    "create_model_op = kfp.dsl.component(\n",
    "    func                = create_model,\n",
    "    base_image          = task_base_image,\n",
    "    packages_to_install = ['tensorflow==2.15.0']\n",
    ")"
   ]
  },
  {
   "cell_type": "code",
   "execution_count": 8,
   "id": "6a306a42-6dbd-4e1e-b747-be92765ac9c4",
   "metadata": {
    "tags": []
   },
   "outputs": [],
   "source": [
    "train_model_op = kfp.dsl.component(\n",
    "    func                = train_model,\n",
    "    base_image          = task_base_image,\n",
    "    packages_to_install = ['tensorflow==2.15.0']\n",
    ")"
   ]
  },
  {
   "cell_type": "code",
   "execution_count": 9,
   "id": "ca53834a-0c07-4d81-945d-91f878e31cce",
   "metadata": {
    "tags": []
   },
   "outputs": [],
   "source": [
    "evaluate_model_op = kfp.dsl.component(\n",
    "    func                = evaluate_model,\n",
    "    base_image          = task_base_image,\n",
    "    packages_to_install = ['tensorflow==2.15.0']\n",
    ")"
   ]
  },
  {
   "cell_type": "code",
   "execution_count": 10,
   "id": "a4b3e4f9-aa79-4d52-bfca-934e90dcb896",
   "metadata": {
    "tags": []
   },
   "outputs": [],
   "source": [
    "upload_artifacts_op = kfp.dsl.component(\n",
    "    func                = upload_artifacts,\n",
    "    base_image          = task_base_image,\n",
    "    packages_to_install = ['boto3']\n",
    ")"
   ]
  },
  {
   "cell_type": "code",
   "execution_count": 11,
   "id": "453b5143-1459-4666-864f-81557c2acdaa",
   "metadata": {
    "tags": []
   },
   "outputs": [],
   "source": [
    "upload_model_op = kfp.dsl.component(\n",
    "    func                = upload_model,\n",
    "    base_image          = task_base_image,\n",
    "    packages_to_install = ['boto3', 'openvino']\n",
    ")"
   ]
  },
  {
   "cell_type": "code",
   "execution_count": 12,
   "id": "456372be-5f7f-4eab-9be7-251fd50759db",
   "metadata": {
    "tags": []
   },
   "outputs": [],
   "source": [
    "delete_artifacts_op = kfp.dsl.component(\n",
    "    func       = delete_artifacts,\n",
    "    base_image = task_base_image\n",
    ")"
   ]
  },
  {
   "cell_type": "markdown",
   "id": "728dc5d5-fd81-4f63-9b97-116caafd4939",
   "metadata": {},
   "source": [
    "### 04 - Create pipeline"
   ]
  },
  {
   "cell_type": "code",
   "execution_count": 13,
   "id": "809edf8f-b4f0-4a8e-8277-3db2747f830a",
   "metadata": {
    "tags": []
   },
   "outputs": [],
   "source": [
    "pipeline_name        = '02_model_training'\n",
    "pipeline_description = 'Model Training Pipeline'"
   ]
  },
  {
   "cell_type": "code",
   "execution_count": 31,
   "id": "4095c4b3-db57-4aee-8607-9e98a4ff8b74",
   "metadata": {
    "tags": []
   },
   "outputs": [],
   "source": [
    "@kfp.dsl.pipeline(\n",
    "    name        = pipeline_name,\n",
    "    description = pipeline_description\n",
    ")\n",
    "def pipeline(\n",
    "    s3_service_name      : str,\n",
    "    s3_endpoint_url      : str,\n",
    "    s3_access_key_id     : str,\n",
    "    s3_secret_access_key : str,\n",
    "    s3_region            : str,\n",
    "    s3_bucket            : str\n",
    "):\n",
    "\n",
    "    import os\n",
    "\n",
    "    create_pvc_task = kubernetes.CreatePVC(\n",
    "        pvc_name_suffix    = '-pipeline-pvc',\n",
    "        size               = '1Gi',\n",
    "        access_modes       = ['ReadWriteOnce'],\n",
    "        storage_class_name = 'mystorageclassname'\n",
    "    )\n",
    "\n",
    "    pvc_directory = os.path.join('/', 'pipeline')\n",
    "    pvc_name      = create_pvc_task.outputs['name']\n",
    "\n",
    "    download_dataset_task = download_dataset_op()\n",
    "    kubernetes.mount_pvc(\n",
    "        task       = download_dataset_task,\n",
    "        pvc_name   = pvc_name,\n",
    "        mount_path = pvc_directory,\n",
    "    )\n",
    "    download_dataset_task.after(create_pvc_task)\n",
    "\n",
    "    prepare_dataset_task = prepare_dataset_op()\n",
    "    kubernetes.mount_pvc(\n",
    "        task       = prepare_dataset_task,\n",
    "        pvc_name   = pvc_name,\n",
    "        mount_path = pvc_directory,\n",
    "    )\n",
    "    prepare_dataset_task.after(download_dataset_task)\n",
    "\n",
    "    create_model_task = create_model_op()\n",
    "    kubernetes.mount_pvc(\n",
    "        task       = create_model_task,\n",
    "        pvc_name   = pvc_name,\n",
    "        mount_path = pvc_directory,\n",
    "    )\n",
    "    create_model_task.after(prepare_dataset_task)\n",
    "\n",
    "    train_model_task = train_model_op()\n",
    "    kubernetes.mount_pvc(\n",
    "        task       = train_model_task,\n",
    "        pvc_name   = pvc_name,\n",
    "        mount_path = pvc_directory,\n",
    "    )\n",
    "    train_model_task.after(create_model_task)\n",
    "\n",
    "    evaluate_model_task = evaluate_model_op()\n",
    "    kubernetes.mount_pvc(\n",
    "        task       = evaluate_model_task,\n",
    "        pvc_name   = pvc_name,\n",
    "        mount_path = pvc_directory,\n",
    "    )\n",
    "    evaluate_model_task.after(train_model_task)\n",
    "\n",
    "    upload_artifacts_task = upload_artifacts_op(\n",
    "        s3_service_name      = s3_service_name,\n",
    "        s3_endpoint_url      = s3_endpoint_url,\n",
    "        s3_access_key_id     = s3_access_key_id,\n",
    "        s3_secret_access_key = s3_secret_access_key,\n",
    "        s3_region            = s3_region,\n",
    "        s3_bucket            = s3_bucket,\n",
    "        pipeline_name        = pipeline_name\n",
    "    )\n",
    "    kubernetes.mount_pvc(\n",
    "        task       = upload_artifacts_task,\n",
    "        pvc_name   = pvc_name,\n",
    "        mount_path = pvc_directory,\n",
    "    )\n",
    "    upload_artifacts_task.after(evaluate_model_task)\n",
    "\n",
    "    upload_model_task = upload_model_op(\n",
    "        s3_service_name      = s3_service_name,\n",
    "        s3_endpoint_url      = s3_endpoint_url,\n",
    "        s3_access_key_id     = s3_access_key_id,\n",
    "        s3_secret_access_key = s3_secret_access_key,\n",
    "        s3_region            = s3_region,\n",
    "        s3_bucket            = s3_bucket,\n",
    "        pipeline_name        = pipeline_name\n",
    "    )\n",
    "    kubernetes.mount_pvc(\n",
    "        task       = upload_model_task,\n",
    "        pvc_name   = pvc_name,\n",
    "        mount_path = pvc_directory,\n",
    "    )\n",
    "    upload_model_task.after(evaluate_model_task)\n",
    "\n",
    "    delete_artifacts_task = delete_artifacts_op()\n",
    "    kubernetes.mount_pvc(\n",
    "        task       = delete_artifacts_task,\n",
    "        pvc_name   = pvc_name,\n",
    "        mount_path = pvc_directory,\n",
    "    )\n",
    "    delete_artifacts_task.after(upload_artifacts_task, upload_model_task)\n",
    "\n",
    "    kubernetes.DeletePVC(pvc_name = pvc_name).after(delete_artifacts_task)"
   ]
  },
  {
   "cell_type": "markdown",
   "id": "972070ac-763e-4928-bd2f-b702ded4f900",
   "metadata": {},
   "source": [
    "### 05 - Create pipeline yaml"
   ]
  },
  {
   "cell_type": "code",
   "execution_count": 32,
   "id": "d7101c9b-74fd-4e45-b36a-6a27ce554f91",
   "metadata": {
    "tags": []
   },
   "outputs": [],
   "source": [
    "pipeline_package_path = os.path.join('yaml', f'{ pipeline_name }.yaml')"
   ]
  },
  {
   "cell_type": "code",
   "execution_count": 33,
   "id": "d2221107-b373-45a9-8b59-5b56bbadff79",
   "metadata": {
    "tags": []
   },
   "outputs": [],
   "source": [
    "kfp.compiler.Compiler().compile(\n",
    "    pipeline_func = pipeline,\n",
    "    package_path  = pipeline_package_path\n",
    ")"
   ]
  },
  {
   "cell_type": "markdown",
   "id": "3f099527-e436-4af6-a355-eba22cc3d636",
   "metadata": {},
   "source": [
    "### 06 - Create pipeline run"
   ]
  },
  {
   "cell_type": "code",
   "execution_count": 34,
   "id": "6f48e0c2-caec-4fbd-8508-e0b4ecd751a6",
   "metadata": {
    "tags": []
   },
   "outputs": [],
   "source": [
    "kubeflow_host  = 'https://ds-pipeline-dspa-my-ds-project.apps.cluster-clr5b.dynamic.redhatworkshops.io'\n",
    "kubeflow_token = 'sha256~gNWgsF3ibmwhmRKHK8aoI4FDs-YGrPwzTnsYoXFCHq0'"
   ]
  },
  {
   "cell_type": "code",
   "execution_count": 35,
   "id": "53ca1f82-ce6c-47c0-a655-36ae1bcecf36",
   "metadata": {
    "tags": []
   },
   "outputs": [],
   "source": [
    "pipeline_arguments = {\n",
    "    's3_service_name'      : 's3',\n",
    "    's3_endpoint_url'      : 'https://minio-api-minio.apps.cluster-clr5b.dynamic.redhatworkshops.io:',\n",
    "    's3_access_key_id'     : 'minio',\n",
    "    's3_secret_access_key' : 'minio123',\n",
    "    's3_region'            : 'nordeste',\n",
    "    's3_bucket'            : 'pipelines',\n",
    "}"
   ]
  },
  {
   "cell_type": "code",
   "execution_count": 36,
   "id": "be2c40d4-7561-4cea-aafb-28c2471f4117",
   "metadata": {
    "tags": []
   },
   "outputs": [
    {
     "data": {
      "text/html": [
       "<a href=\"https://ds-pipeline-dspa-my-ds-project.apps.cluster-clr5b.dynamic.redhatworkshops.io/#/experiments/details/2fcac9c1-128b-4395-9300-c10c9b560f60\" target=\"_blank\" >Experiment details</a>."
      ],
      "text/plain": [
       "<IPython.core.display.HTML object>"
      ]
     },
     "metadata": {},
     "output_type": "display_data"
    },
    {
     "data": {
      "text/html": [
       "<a href=\"https://ds-pipeline-dspa-my-ds-project.apps.cluster-clr5b.dynamic.redhatworkshops.io/#/runs/details/343a456f-9858-4b1a-ba10-195b74b69f9c\" target=\"_blank\" >Run details</a>."
      ],
      "text/plain": [
       "<IPython.core.display.HTML object>"
      ]
     },
     "metadata": {},
     "output_type": "display_data"
    },
    {
     "data": {
      "text/plain": [
       "RunPipelineResult(run_id=343a456f-9858-4b1a-ba10-195b74b69f9c)"
      ]
     },
     "execution_count": 36,
     "metadata": {},
     "output_type": "execute_result"
    }
   ],
   "source": [
    "kfp.client.Client(host = kubeflow_host, existing_token = kubeflow_token).create_run_from_pipeline_package(\n",
    "    pipeline_file = pipeline_package_path,\n",
    "    arguments     = pipeline_arguments\n",
    ")"
   ]
  },
  {
   "cell_type": "markdown",
   "id": "8ab83f78-8ec8-4082-a002-a3c6ca4a6034",
   "metadata": {},
   "source": [
    "### 07 - Run inference"
   ]
  },
  {
   "cell_type": "code",
   "execution_count": null,
   "id": "c04c2930-1e64-49fb-bcd3-9bafe1b52d50",
   "metadata": {
    "tags": []
   },
   "outputs": [],
   "source": [
    "inference_endpoint       = '<inference_endpoint>'\n",
    "inference_endpoint_token = '<inference_endpoint_token>'"
   ]
  },
  {
   "cell_type": "code",
   "execution_count": null,
   "id": "205e1c17-fa70-4e65-8d7d-47858d011462",
   "metadata": {
    "tags": []
   },
   "outputs": [],
   "source": [
    "def run_inference(image):\n",
    "\n",
    "    Image.open(image).show()\n",
    "\n",
    "    image = tf.keras.utils.load_img(image, target_size = (160, 160))\n",
    "    image = tf.keras.utils.img_to_array(image)\n",
    "    image = image.tolist()\n",
    "    image = [image]\n",
    "\n",
    "    headers = {\n",
    "        'Content-Type'  : 'application/json',\n",
    "        'Authorization' : f'Bearer { inference_endpoint_token }'\n",
    "    }\n",
    "\n",
    "    payload = json.dumps({\n",
    "        'inputs' : [\n",
    "            {\n",
    "                'name'     : 'layer_0_input',\n",
    "                'datatype' : 'FP32',\n",
    "                'data'     : image,\n",
    "                'shape'    : [1, 160, 160, 3]\n",
    "            }\n",
    "        ]\n",
    "    })\n",
    "\n",
    "    response = requests.post(url = inference_endpoint, headers = headers, data = payload)\n",
    "    response = json.loads(response.text)\n",
    "\n",
    "    prediction_score = response['outputs'][0]['data'][0]\n",
    "    prediction       = 'cat' if prediction_score < 0.5 else 'dog'\n",
    "\n",
    "    print(f'prediction : { prediction }')\n",
    "    print(f'score      : { prediction_score }')"
   ]
  },
  {
   "cell_type": "code",
   "execution_count": null,
   "id": "0fc300ed-01e8-49fb-b1d9-f153142945cf",
   "metadata": {
    "tags": []
   },
   "outputs": [],
   "source": [
    "run_inference('images/cat.png')"
   ]
  },
  {
   "cell_type": "code",
   "execution_count": null,
   "id": "065835fc-6a99-4542-b456-934a6716c17e",
   "metadata": {
    "tags": []
   },
   "outputs": [],
   "source": [
    "run_inference('images/dog.png')"
   ]
  }
 ],
 "metadata": {
  "kernelspec": {
   "display_name": "Python 3.9",
   "language": "python",
   "name": "python3"
  },
  "language_info": {
   "codemirror_mode": {
    "name": "ipython",
    "version": 3
   },
   "file_extension": ".py",
   "mimetype": "text/x-python",
   "name": "python",
   "nbconvert_exporter": "python",
   "pygments_lexer": "ipython3",
   "version": "3.9.16"
  }
 },
 "nbformat": 4,
 "nbformat_minor": 5
}
